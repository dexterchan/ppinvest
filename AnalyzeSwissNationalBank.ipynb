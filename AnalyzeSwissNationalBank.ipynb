{
 "cells": [
  {
   "cell_type": "code",
   "execution_count": 1,
   "metadata": {},
   "outputs": [],
   "source": [
    "import requests\n",
    "import urllib\n",
    "import os\n",
    "import pandas as pd\n",
    "from parseTable import *\n",
    "rawdataDir=os.path.join(os.getcwd(),\"rawdata\")\n",
    "url_swissgdpquandl=\"https://www.quandl.com/api/v3/datasets/FRED/GDP.csv?api_key=2xGzWaXGnzUU5eBa58m4\"\n",
    "\n",
    "url_Nasdaq_snb_hold=\"https://www.nasdaq.com/quotes/institutional-portfolio/swiss-national-bank-913041?page={0}\"\n",
    "\n",
    "url=\"https://www.nasdaq.com/quotes/institutional-portfolio/swiss-national-bank-913041\"\n",
    "urlnextpage=\"https://www.nasdaq.com/quotes/institutional-portfolio/swiss-national-bank-913041?page=2\"\n",
    "urlincreased=\"https://www.nasdaq.com/quotes/institutional-portfolio/swiss-national-bank-913041/increased\"\n",
    "urlincreasedPage2=\"https://www.nasdaq.com/quotes/institutional-portfolio/swiss-national-bank-913041/increased?page=2\"\n",
    "urldecreased=\"https://www.nasdaq.com/quotes/institutional-portfolio/swiss-national-bank-913041/decreased\""
   ]
  },
  {
   "cell_type": "code",
   "execution_count": 2,
   "metadata": {},
   "outputs": [],
   "source": [
    "if not os.path.exists(rawdataDir):\n",
    "    os.makedirs(rawdataDir)\n",
    "nasdaq_snb_held=pd.DataFrame()"
   ]
  },
  {
   "cell_type": "code",
   "execution_count": null,
   "metadata": {},
   "outputs": [
    {
     "name": "stdout",
     "output_type": "stream",
     "text": [
      "page successfully read https://www.nasdaq.com/quotes/institutional-portfolio/swiss-national-bank-913041?page=1\n",
      "page successfully read https://www.nasdaq.com/quotes/institutional-portfolio/swiss-national-bank-913041?page=2\n",
      "page successfully read https://www.nasdaq.com/quotes/institutional-portfolio/swiss-national-bank-913041?page=3\n"
     ]
    }
   ],
   "source": [
    "page=5\n",
    "\n",
    "for p in range(0,page):\n",
    "    url = url_Nasdaq_snb_hold.format(p+1)\n",
    "    r = requests.get(url, allow_redirects=True)\n",
    "    if(r.status_code!=200):\n",
    "        print (\"Cannot fresh page {0}\".format(url))\n",
    "    else:\n",
    "        page = r.text\n",
    "        print (\"page successfully read {0}\".format(url))\n",
    "    from bs4 import BeautifulSoup\n",
    "    soup = BeautifulSoup(page, 'html.parser')\n",
    "    swisspage=soup.find(\"div\", {\"id\": \"total-positions-table\"}).table\n",
    "    df=parse_html_table(swisspage)\n",
    "    nasdaq_snb_held=nasdaq_snb_held.append(df,ignore_index=True)"
   ]
  },
  {
   "cell_type": "code",
   "execution_count": null,
   "metadata": {},
   "outputs": [],
   "source": [
    "from datetime import datetime\n",
    "asoftxt=soup.find(\"div\", {\"id\": \"institution-position-stats\"}).h2.span.text\n",
    "asoftxt=datetime.strptime(asoftxt,'%m/%d/%Y').strftime(\"%Y%m%d\")\n",
    "\n",
    "nasdaq_snb_held.to_csv(os.path.join(rawdataDir,\"nasdaq_snb_held{0}.csv\".format(asoftxt)),index=False)"
   ]
  },
  {
   "cell_type": "code",
   "execution_count": null,
   "metadata": {},
   "outputs": [],
   "source": []
  },
  {
   "cell_type": "code",
   "execution_count": null,
   "metadata": {},
   "outputs": [],
   "source": []
  },
  {
   "cell_type": "markdown",
   "metadata": {},
   "source": [
    "# Get Swiss GDP"
   ]
  },
  {
   "cell_type": "code",
   "execution_count": null,
   "metadata": {},
   "outputs": [],
   "source": [
    "r = requests.get(url_swissgdpquandl, allow_redirects=True)"
   ]
  },
  {
   "cell_type": "code",
   "execution_count": null,
   "metadata": {},
   "outputs": [],
   "source": [
    "swissgdpRawFile=os.path.join(rawdataDir,\"swissgdp.csv\")\n",
    "open(swissgdpRawFile, 'bw').write(r.content)\n",
    "swisshistoricalgdp= pd.read_csv( swissgdpRawFile)"
   ]
  },
  {
   "cell_type": "code",
   "execution_count": null,
   "metadata": {},
   "outputs": [],
   "source": [
    "swisshistoricalgdp[\"Date\"]=pd.to_datetime (swisshistoricalgdp[\"Date\"],format=\"%Y-%m-%d\")"
   ]
  },
  {
   "cell_type": "code",
   "execution_count": null,
   "metadata": {},
   "outputs": [],
   "source": [
    "swisshistoricalgdp.columns"
   ]
  },
  {
   "cell_type": "code",
   "execution_count": null,
   "metadata": {},
   "outputs": [],
   "source": []
  }
 ],
 "metadata": {
  "kernelspec": {
   "display_name": "Python 3",
   "language": "python",
   "name": "python3"
  },
  "language_info": {
   "codemirror_mode": {
    "name": "ipython",
    "version": 3
   },
   "file_extension": ".py",
   "mimetype": "text/x-python",
   "name": "python",
   "nbconvert_exporter": "python",
   "pygments_lexer": "ipython3",
   "version": "3.5.2"
  }
 },
 "nbformat": 4,
 "nbformat_minor": 2
}
