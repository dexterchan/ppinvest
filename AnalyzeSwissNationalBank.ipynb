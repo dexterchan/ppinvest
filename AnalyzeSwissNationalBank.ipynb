{
 "cells": [
  {
   "cell_type": "code",
   "execution_count": 1,
   "metadata": {},
   "outputs": [],
   "source": [
    "import requests\n",
    "import urllib\n",
    "import os\n",
    "import pandas as pd\n",
    "rawdataDir=os.path.join(os.getcwd(),\"rawdata\")\n",
    "url_swissgdpquandl=\"https://www.quandl.com/api/v3/datasets/FRED/GDP.csv?api_key=2xGzWaXGnzUU5eBa58m4\"\n",
    "url=\"https://www.nasdaq.com/quotes/institutional-portfolio/swiss-national-bank-913041\"\n",
    "urlnextpage=\"https://www.nasdaq.com/quotes/institutional-portfolio/swiss-national-bank-913041?page=2\"\n",
    "urlincreased=\"https://www.nasdaq.com/quotes/institutional-portfolio/swiss-national-bank-913041/increased\"\n",
    "urlincreasedPage2=\"https://www.nasdaq.com/quotes/institutional-portfolio/swiss-national-bank-913041/increased?page=2\"\n",
    "urldecreased=\"https://www.nasdaq.com/quotes/institutional-portfolio/swiss-national-bank-913041/decreased\""
   ]
  },
  {
   "cell_type": "code",
   "execution_count": 2,
   "metadata": {},
   "outputs": [],
   "source": [
    "if not os.path.exists(rawdataDir):\n",
    "    os.makedirs(rawdataDir)"
   ]
  },
  {
   "cell_type": "code",
   "execution_count": 3,
   "metadata": {},
   "outputs": [],
   "source": [
    "r = requests.get(url, allow_redirects=True)"
   ]
  },
  {
   "cell_type": "code",
   "execution_count": 4,
   "metadata": {},
   "outputs": [
    {
     "name": "stdout",
     "output_type": "stream",
     "text": [
      "page successfully read\n"
     ]
    }
   ],
   "source": [
    "if(r.status_code!=200):\n",
    "    print (\"Cannot fresh page\")\n",
    "else:\n",
    "    page = r.text\n",
    "    print (\"page successfully read\")"
   ]
  },
  {
   "cell_type": "code",
   "execution_count": 5,
   "metadata": {},
   "outputs": [],
   "source": [
    "from bs4 import BeautifulSoup\n",
    "soup = BeautifulSoup(page, 'html.parser')\n",
    "swisspage=soup.find(\"div\", {\"id\": \"total-positions-table\"}).table"
   ]
  },
  {
   "cell_type": "markdown",
   "metadata": {},
   "source": [
    "# Get Swiss GDP"
   ]
  },
  {
   "cell_type": "code",
   "execution_count": 6,
   "metadata": {},
   "outputs": [],
   "source": [
    "r = requests.get(url_swissgdpquandl, allow_redirects=True)"
   ]
  },
  {
   "cell_type": "code",
   "execution_count": 7,
   "metadata": {},
   "outputs": [],
   "source": [
    "swissgdpRawFile=os.path.join(rawdataDir,\"swissgdp.csv\")\n",
    "open(swissgdpRawFile, 'bw').write(r.content)\n",
    "swisshistoricalgdp= pd.read_csv( swissgdpRawFile)"
   ]
  },
  {
   "cell_type": "code",
   "execution_count": 32,
   "metadata": {},
   "outputs": [],
   "source": [
    "swisshistoricalgdp[\"Date\"]=pd.to_datetime (swisshistoricalgdp[\"Date\"],format=\"%Y-%m-%d\")"
   ]
  },
  {
   "cell_type": "code",
   "execution_count": 29,
   "metadata": {},
   "outputs": [
    {
     "data": {
      "text/plain": [
       "Index(['Date', 'Value'], dtype='object')"
      ]
     },
     "execution_count": 29,
     "metadata": {},
     "output_type": "execute_result"
    }
   ],
   "source": [
    "swisshistoricalgdp.columns"
   ]
  },
  {
   "cell_type": "code",
   "execution_count": null,
   "metadata": {},
   "outputs": [],
   "source": []
  }
 ],
 "metadata": {
  "kernelspec": {
   "display_name": "Python 3",
   "language": "python",
   "name": "python3"
  },
  "language_info": {
   "codemirror_mode": {
    "name": "ipython",
    "version": 3
   },
   "file_extension": ".py",
   "mimetype": "text/x-python",
   "name": "python",
   "nbconvert_exporter": "python",
   "pygments_lexer": "ipython3",
   "version": "3.5.2"
  }
 },
 "nbformat": 4,
 "nbformat_minor": 2
}
