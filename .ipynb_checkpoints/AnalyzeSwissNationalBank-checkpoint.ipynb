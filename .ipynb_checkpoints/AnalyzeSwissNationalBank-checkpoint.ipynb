{
 "cells": [
  {
   "cell_type": "code",
   "execution_count": 1,
   "metadata": {},
   "outputs": [],
   "source": [
    "import requests\n",
    "import urllib\n",
    "\n",
    "url=\"https://www.nasdaq.com/quotes/institutional-portfolio/swiss-national-bank-913041\"\n",
    "urlnextpage=\"https://www.nasdaq.com/quotes/institutional-portfolio/swiss-national-bank-913041?page=2\"\n",
    "urlincreased=\"https://www.nasdaq.com/quotes/institutional-portfolio/swiss-national-bank-913041/increased\"\n",
    "urlincreasedPage2=\"https://www.nasdaq.com/quotes/institutional-portfolio/swiss-national-bank-913041/increased?page=2\"\n",
    "urldecreased=\"https://www.nasdaq.com/quotes/institutional-portfolio/swiss-national-bank-913041/decreased\""
   ]
  },
  {
   "cell_type": "code",
   "execution_count": 2,
   "metadata": {},
   "outputs": [],
   "source": [
    "r = requests.get(url, allow_redirects=True)"
   ]
  },
  {
   "cell_type": "code",
   "execution_count": 3,
   "metadata": {},
   "outputs": [
    {
     "name": "stdout",
     "output_type": "stream",
     "text": [
      "page successfully read\n"
     ]
    }
   ],
   "source": [
    "if(r.status_code!=200):\n",
    "    print (\"Cannot fresh page\")\n",
    "else:\n",
    "    page = r.text\n",
    "    print (\"page successfully read\")"
   ]
  },
  {
   "cell_type": "code",
   "execution_count": 4,
   "metadata": {},
   "outputs": [],
   "source": [
    "from bs4 import BeautifulSoup"
   ]
  },
  {
   "cell_type": "code",
   "execution_count": 6,
   "metadata": {},
   "outputs": [],
   "source": [
    "soup = BeautifulSoup(page, 'html.parser')"
   ]
  },
  {
   "cell_type": "code",
   "execution_count": 7,
   "metadata": {},
   "outputs": [
    {
     "data": {
      "text/plain": [
       "<title>SWISS NATIONAL BANK Institutional Portfolio - NASDAQ.com</title>"
      ]
     },
     "execution_count": 7,
     "metadata": {},
     "output_type": "execute_result"
    }
   ],
   "source": [
    "soup.title"
   ]
  },
  {
   "cell_type": "code",
   "execution_count": 11,
   "metadata": {},
   "outputs": [
    {
     "data": {
      "text/plain": [
       "<table>\n",
       "<tr>\n",
       "<th><a href=\"https://www.nasdaq.com/quotes/institutional-portfolio/swiss-national-bank-913041?sortname=companyname&amp;sorttype=0\" rel=\"nofollow\">Company</a>\n",
       "</th>\n",
       "<th><a href=\"https://www.nasdaq.com/quotes/institutional-portfolio/swiss-national-bank-913041?sortname=class&amp;sorttype=0\" rel=\"nofollow\">Class</a>\n",
       "</th>\n",
       "<th><a href=\"https://www.nasdaq.com/quotes/institutional-portfolio/swiss-national-bank-913041?sortname=valuesofshare&amp;sorttype=0\" rel=\"nofollow\">Value of Shares ($1,000s)<span> ▼</span></a>\n",
       "</th>\n",
       "<th><a href=\"https://www.nasdaq.com/quotes/institutional-portfolio/swiss-national-bank-913041?sortname=changeinvalue&amp;sorttype=0\" rel=\"nofollow\">Change in Value ($1,000s)</a>\n",
       "</th>\n",
       "<th><a href=\"https://www.nasdaq.com/quotes/institutional-portfolio/swiss-national-bank-913041?sortname=changepct&amp;sorttype=0\" rel=\"nofollow\">Change (%)</a>\n",
       "</th>\n",
       "<th><a href=\"https://www.nasdaq.com/quotes/institutional-portfolio/swiss-national-bank-913041?sortname=sharesheld&amp;sorttype=0\" rel=\"nofollow\">Shares Held</a>\n",
       "</th>\n",
       "</tr>\n",
       "<tr>\n",
       "<td><a href=\"https://www.nasdaq.com/symbol/aapl/institutional-holdings\">APPLE INC</a></td>\n",
       "<td>COM</td>\n",
       "<td>3,784,718</td>\n",
       "<td>68,319</td>\n",
       "<td>1.84</td>\n",
       "<td>16,874,216</td>\n",
       "</tr>\n",
       "<tr>\n",
       "<td><a href=\"https://www.nasdaq.com/symbol/msft/institutional-holdings\">MICROSOFT CORP</a></td>\n",
       "<td>COM</td>\n",
       "<td>2,741,788</td>\n",
       "<td>75,497</td>\n",
       "<td>2.83</td>\n",
       "<td>24,451,870</td>\n",
       "</tr>\n",
       "<tr>\n",
       "<td><a href=\"https://www.nasdaq.com/symbol/amzn/institutional-holdings\">AMAZON COM INC</a></td>\n",
       "<td>COM</td>\n",
       "<td>2,570,946</td>\n",
       "<td>87,680</td>\n",
       "<td>3.53</td>\n",
       "<td>1,360,541</td>\n",
       "</tr>\n",
       "<tr>\n",
       "<td><a href=\"https://www.nasdaq.com/symbol/jnj/institutional-holdings\">JOHNSON &amp; JOHNSON</a></td>\n",
       "<td>COM</td>\n",
       "<td>1,371,340</td>\n",
       "<td>35,874</td>\n",
       "<td>2.69</td>\n",
       "<td>9,858,664</td>\n",
       "</tr>\n",
       "<tr>\n",
       "<td><a href=\"https://www.nasdaq.com/symbol/xom/institutional-holdings\">EXXON MOBIL CORP</a></td>\n",
       "<td>COM</td>\n",
       "<td>1,285,053</td>\n",
       "<td>36,116</td>\n",
       "<td>2.89</td>\n",
       "<td>15,058,036</td>\n",
       "</tr>\n",
       "<tr>\n",
       "<td><a href=\"https://www.nasdaq.com/symbol/fb/institutional-holdings\">FACEBOOK INC</a></td>\n",
       "<td>CL A</td>\n",
       "<td>1,280,902</td>\n",
       "<td>42,778</td>\n",
       "<td>3.46</td>\n",
       "<td>8,141,500</td>\n",
       "</tr>\n",
       "<tr>\n",
       "<td><a href=\"https://www.nasdaq.com/symbol/goog/institutional-holdings\">ALPHABET INC</a></td>\n",
       "<td>CAP STK CL C</td>\n",
       "<td>1,204,878</td>\n",
       "<td>37,035</td>\n",
       "<td>3.17</td>\n",
       "<td>1,041,066</td>\n",
       "</tr>\n",
       "<tr>\n",
       "<td><a href=\"https://www.nasdaq.com/symbol/googl/institutional-holdings\">ALPHABET INC</a></td>\n",
       "<td>CAP STK CL A</td>\n",
       "<td>1,172,138</td>\n",
       "<td>30,013</td>\n",
       "<td>2.63</td>\n",
       "<td>1,003,689</td>\n",
       "</tr>\n",
       "<tr>\n",
       "<td><a href=\"https://www.nasdaq.com/symbol/v/institutional-holdings\">VISA INC</a></td>\n",
       "<td>COM CL A</td>\n",
       "<td>996,316</td>\n",
       "<td>21,455</td>\n",
       "<td>2.20</td>\n",
       "<td>6,854,128</td>\n",
       "</tr>\n",
       "<tr>\n",
       "<td><a href=\"https://www.nasdaq.com/symbol/pfe/institutional-holdings\">PFIZER INC</a></td>\n",
       "<td>COM</td>\n",
       "<td>971,106</td>\n",
       "<td>25,612</td>\n",
       "<td>2.71</td>\n",
       "<td>21,623,389</td>\n",
       "</tr>\n",
       "<tr>\n",
       "<td><a href=\"https://www.nasdaq.com/symbol/unh/institutional-holdings\">UNITEDHEALTH GROUP INC</a></td>\n",
       "<td>COM</td>\n",
       "<td>963,598</td>\n",
       "<td>24,928</td>\n",
       "<td>2.66</td>\n",
       "<td>3,579,488</td>\n",
       "</tr>\n",
       "<tr>\n",
       "<td><a href=\"https://www.nasdaq.com/symbol/t/institutional-holdings\">AT&amp;T INC</a></td>\n",
       "<td>COM</td>\n",
       "<td>902,273</td>\n",
       "<td>32,409</td>\n",
       "<td>3.73</td>\n",
       "<td>26,545,263</td>\n",
       "</tr>\n",
       "<tr>\n",
       "<td><a href=\"https://www.nasdaq.com/symbol/vz/institutional-holdings\">VERIZON COMMUNICATIONS INC</a></td>\n",
       "<td>COM</td>\n",
       "<td>862,773</td>\n",
       "<td>23,190</td>\n",
       "<td>2.76</td>\n",
       "<td>15,703,916</td>\n",
       "</tr>\n",
       "<tr>\n",
       "<td><a href=\"https://www.nasdaq.com/symbol/cvx/institutional-holdings\">CHEVRON CORP NEW</a></td>\n",
       "<td>COM</td>\n",
       "<td>797,177</td>\n",
       "<td>27,886</td>\n",
       "<td>3.63</td>\n",
       "<td>6,360,623</td>\n",
       "</tr>\n",
       "<tr>\n",
       "<td><a href=\"https://www.nasdaq.com/symbol/hd/institutional-holdings\">HOME DEPOT INC</a></td>\n",
       "<td>COM</td>\n",
       "<td>794,478</td>\n",
       "<td>22,702</td>\n",
       "<td>2.94</td>\n",
       "<td>4,045,615</td>\n",
       "</tr>\n",
       "<tr>\n",
       "<td><a href=\"https://www.nasdaq.com/symbol/csco/institutional-holdings\">CISCO SYS INC</a></td>\n",
       "<td>COM</td>\n",
       "<td>783,315</td>\n",
       "<td>3,340</td>\n",
       "<td>.43</td>\n",
       "<td>16,274,993</td>\n",
       "</tr>\n",
       "<tr>\n",
       "<td><a href=\"https://www.nasdaq.com/symbol/regn/institutional-holdings\">PROCTER AND GAMBLE CO</a></td>\n",
       "<td>COM</td>\n",
       "<td>774,493</td>\n",
       "<td>16,660</td>\n",
       "<td>2.20</td>\n",
       "<td>9,427,788</td>\n",
       "</tr>\n",
       "<tr>\n",
       "<td><a href=\"https://www.nasdaq.com/symbol/intc/institutional-holdings\">INTEL CORP</a></td>\n",
       "<td>COM</td>\n",
       "<td>727,724</td>\n",
       "<td>21,568</td>\n",
       "<td>3.05</td>\n",
       "<td>15,473,602</td>\n",
       "</tr>\n",
       "<tr>\n",
       "<td><a href=\"https://www.nasdaq.com/symbol/ma/institutional-holdings\">MASTERCARD INCORPORATED</a></td>\n",
       "<td>CL A</td>\n",
       "<td>722,316</td>\n",
       "<td>16,037</td>\n",
       "<td>2.27</td>\n",
       "<td>3,387,020</td>\n",
       "</tr>\n",
       "<tr>\n",
       "<td><a href=\"https://www.nasdaq.com/symbol/ba/institutional-holdings\">BOEING CO</a></td>\n",
       "<td>COM</td>\n",
       "<td>714,348</td>\n",
       "<td>12,792</td>\n",
       "<td>1.82</td>\n",
       "<td>1,848,391</td>\n",
       "</tr>\n",
       "</table>"
      ]
     },
     "execution_count": 11,
     "metadata": {},
     "output_type": "execute_result"
    }
   ],
   "source": [
    "soup.find(\"div\", {\"id\": \"total-positions-table\"}).table"
   ]
  },
  {
   "cell_type": "code",
   "execution_count": null,
   "metadata": {},
   "outputs": [],
   "source": []
  }
 ],
 "metadata": {
  "kernelspec": {
   "display_name": "Python 3",
   "language": "python",
   "name": "python3"
  },
  "language_info": {
   "codemirror_mode": {
    "name": "ipython",
    "version": 3
   },
   "file_extension": ".py",
   "mimetype": "text/x-python",
   "name": "python",
   "nbconvert_exporter": "python",
   "pygments_lexer": "ipython3",
   "version": "3.5.2"
  }
 },
 "nbformat": 4,
 "nbformat_minor": 2
}
