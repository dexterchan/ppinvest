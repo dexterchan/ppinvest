{
 "cells": [
  {
   "cell_type": "markdown",
   "metadata": {},
   "source": [
    "# Gregory-Leibniz"
   ]
  },
  {
   "cell_type": "code",
   "execution_count": 1,
   "metadata": {},
   "outputs": [],
   "source": [
    "from math import *\n",
    "import numpy as np\n",
    "numOfSteps=100000\n"
   ]
  },
  {
   "cell_type": "code",
   "execution_count": 2,
   "metadata": {},
   "outputs": [],
   "source": [
    "def Gregory_Leibniz(numOfSteps):\n",
    "    winLength = 100000\n",
    "    if(numOfSteps%winLength != 0 or numOfSteps<winLength):\n",
    "        raise Exception(\"Num of steps should be divisble by \"+winLength)\n",
    "    \n",
    "    numBatch = floor(numOfSteps/winLength)\n",
    "    accum=0\n",
    "    for i in range(numBatch):\n",
    "        accum+=_Gregory_Leibniz(winLength, winLength*(i))\n",
    "    return accum\n",
    "    \n",
    "    \n",
    "\n",
    "def _Gregory_Leibniz(_numOfSteps,offset=0):\n",
    "    maxK = floor(_numOfSteps/2)\n",
    "    r = np.arange(maxK)\n",
    "    negR=r*4 + 3+offset*2\n",
    "    posR = r*4 + 1+offset*2\n",
    "    negR = -1 / negR\n",
    "    posR = 1/posR\n",
    "    pi_ = np.sum(posR + negR, axis=0)*4\n",
    "    return pi_"
   ]
  },
  {
   "cell_type": "code",
   "execution_count": 3,
   "metadata": {},
   "outputs": [
    {
     "data": {
      "text/plain": [
       "3.141592653589793"
      ]
     },
     "execution_count": 3,
     "metadata": {},
     "output_type": "execute_result"
    }
   ],
   "source": [
    "pi"
   ]
  },
  {
   "cell_type": "code",
   "execution_count": 4,
   "metadata": {},
   "outputs": [],
   "source": [
    "mypi1=Gregory_Leibniz(numOfSteps)"
   ]
  },
  {
   "cell_type": "code",
   "execution_count": 5,
   "metadata": {},
   "outputs": [
    {
     "data": {
      "text/plain": [
       "-9.999999998289155e-06"
      ]
     },
     "execution_count": 5,
     "metadata": {},
     "output_type": "execute_result"
    }
   ],
   "source": [
    "mypi1-pi"
   ]
  },
  {
   "cell_type": "code",
   "execution_count": 6,
   "metadata": {},
   "outputs": [],
   "source": [
    "def Nilakantha(numOfSteps):\n",
    "    winLength = 100000\n",
    "    if(numOfSteps%winLength != 0 or numOfSteps<winLength):\n",
    "        raise Exception(\"Num of steps should be divisble by \"+winLength)\n",
    "    numBatch = floor(numOfSteps/winLength)\n",
    "    accum=0\n",
    "    for i in range(numBatch):\n",
    "        accum+=_Nilakantha(winLength, winLength*(i))\n",
    "    return accum\n",
    "    return 0;\n",
    "\n",
    "def _Nilakantha(_numOfSteps,offset=0):\n",
    "    maxK = floor(_numOfSteps/2)\n",
    "    r = np.arange(maxK)\n",
    "    posR = (r*2+1)*2+offset\n",
    "    posR = posR*(posR+1)*(posR+2)\n",
    "    posR = 1/posR;\n",
    "    negR = (r+1)*4 + offset * 2\n",
    "    negR = negR * (negR+1) * (negR+2)\n",
    "    negR = (-1)/negR\n",
    "    pi_=3 + np.sum(posR + negR,axis=0)*4\n",
    "    return pi_"
   ]
  },
  {
   "cell_type": "code",
   "execution_count": 7,
   "metadata": {},
   "outputs": [],
   "source": [
    "mypi12=_Nilakantha(numOfSteps)\n",
    "    "
   ]
  },
  {
   "cell_type": "code",
   "execution_count": 8,
   "metadata": {},
   "outputs": [
    {
     "data": {
      "text/plain": [
       "0.0"
      ]
     },
     "execution_count": 8,
     "metadata": {},
     "output_type": "execute_result"
    }
   ],
   "source": [
    "mypi12-pi"
   ]
  },
  {
   "cell_type": "code",
   "execution_count": null,
   "metadata": {},
   "outputs": [],
   "source": [
    "    "
   ]
  },
  {
   "cell_type": "code",
   "execution_count": null,
   "metadata": {},
   "outputs": [],
   "source": [
    "    "
   ]
  },
  {
   "cell_type": "code",
   "execution_count": null,
   "metadata": {},
   "outputs": [],
   "source": []
  }
 ],
 "metadata": {
  "kernelspec": {
   "display_name": "Python 3",
   "language": "python",
   "name": "python3"
  },
  "language_info": {
   "codemirror_mode": {
    "name": "ipython",
    "version": 3
   },
   "file_extension": ".py",
   "mimetype": "text/x-python",
   "name": "python",
   "nbconvert_exporter": "python",
   "pygments_lexer": "ipython3",
   "version": "3.5.2"
  }
 },
 "nbformat": 4,
 "nbformat_minor": 2
}
